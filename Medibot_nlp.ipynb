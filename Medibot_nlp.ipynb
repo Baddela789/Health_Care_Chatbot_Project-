{
 "cells": [
  {
   "cell_type": "code",
   "execution_count": 1,
   "metadata": {},
   "outputs": [],
   "source": [
    "\n",
    "import re\n",
    "import pandas as pd\n",
    "from sklearn.tree import DecisionTreeClassifier, _tree\n",
    "import numpy as np\n",
    "from sklearn.model_selection import train_test_split\n",
    "from sklearn.svm import SVC\n",
    "import csv\n",
    "import warnings\n",
    "\n",
    "warnings.filterwarnings(\"ignore\", category=DeprecationWarning)"
   ]
  },
  {
   "cell_type": "code",
   "execution_count": 2,
   "metadata": {},
   "outputs": [],
   "source": [
    "# Define bot name\n",
    "bot_name = \"chatbot\"\n"
   ]
  },
  {
   "cell_type": "code",
   "execution_count": 3,
   "metadata": {},
   "outputs": [],
   "source": [
    "# Load training and testing data\n",
    "training = pd.read_csv('/home/rgukt/Desktop/majorproject2/Training.csv')\n",
    "testing = pd.read_csv('/home/rgukt/Desktop/majorproject2/Testing.csv')\n"
   ]
  },
  {
   "cell_type": "code",
   "execution_count": 4,
   "metadata": {},
   "outputs": [],
   "source": [
    "\n",
    "# Extract columns and features\n",
    "cols = training.columns\n",
    "cols = cols[:-1]\t\t\n",
    "x = training[cols]\n",
    "y = training['prognosis']\n",
    "y1 = y\n"
   ]
  },
  {
   "cell_type": "code",
   "execution_count": 5,
   "metadata": {},
   "outputs": [],
   "source": [
    "# Group data by prognosis\n",
    "reduced_data = training.groupby(training['prognosis']).max()\n"
   ]
  },
  {
   "cell_type": "code",
   "execution_count": 6,
   "metadata": {},
   "outputs": [],
   "source": [
    "# Encode labels\n",
    "from sklearn.preprocessing import LabelEncoder\n",
    "le = LabelEncoder()\n",
    "le.fit(y)\n",
    "y = le.transform(y)"
   ]
  },
  {
   "cell_type": "code",
   "execution_count": 7,
   "metadata": {},
   "outputs": [],
   "source": [
    "# Split data into training and testing sets\n",
    "x_train, x_test, y_train, y_test = train_test_split(x, y, test_size=0.33, random_state=42)\n",
    "testx = testing[cols]\n",
    "testy = testing['prognosis']\n",
    "testy = le.transform(testy)"
   ]
  },
  {
   "cell_type": "code",
   "execution_count": 8,
   "metadata": {},
   "outputs": [],
   "source": [
    "# Initialize decision tree classifier and fit the model\n",
    "clf1 = DecisionTreeClassifier()\n",
    "clf = clf1.fit(x_train, y_train)\n"
   ]
  },
  {
   "cell_type": "code",
   "execution_count": 9,
   "metadata": {},
   "outputs": [
    {
     "name": "stdout",
     "output_type": "stream",
     "text": [
      "SVM Score: 1.0\n"
     ]
    }
   ],
   "source": [
    "# Initialize SVM classifier and fit the model\n",
    "model = SVC()\n",
    "model.fit(x_train, y_train)\n",
    "print(\"SVM Score:\", model.score(x_test, y_test))\n"
   ]
  },
  {
   "cell_type": "code",
   "execution_count": 10,
   "metadata": {},
   "outputs": [],
   "source": [
    "# Extract feature importances3\n",
    "importances = clf.feature_importances_\n",
    "indices = np.argsort(importances)[::-1]\n",
    "features = cols"
   ]
  },
  {
   "cell_type": "code",
   "execution_count": 11,
   "metadata": {},
   "outputs": [],
   "source": [
    "# Define a function to read text\n",
    "def read_text(text):\n",
    "    print(text)"
   ]
  },
  {
   "cell_type": "code",
   "execution_count": 12,
   "metadata": {},
   "outputs": [],
   "source": [
    "# Create dictionaries for symptom severity, description, and precautions\n",
    "severityDictionary = dict()\n",
    "description_list = dict()\n",
    "precautionDictionary = dict()"
   ]
  },
  {
   "cell_type": "code",
   "execution_count": 13,
   "metadata": {},
   "outputs": [],
   "source": [
    "# Create a dictionary to map symptoms to their indices\n",
    "symptoms_dict = {}\n"
   ]
  },
  {
   "cell_type": "code",
   "execution_count": 14,
   "metadata": {},
   "outputs": [],
   "source": [
    "# Populate symptoms_dict with symptom-index mappings\n",
    "for index, symptom in enumerate(x.columns):\n",
    "    symptoms_dict[symptom] = index"
   ]
  },
  {
   "cell_type": "code",
   "execution_count": 15,
   "metadata": {},
   "outputs": [],
   "source": [
    "# Calculate the condition based on symptoms and duration\n",
    "def calc_condition(symptoms, days):\n",
    "    sum = 0\n",
    "    for item in symptoms:\n",
    "        sum += severityDictionary[item]\n",
    "    if ((sum * days) / (len(symptoms) + 1) > 13):\n",
    "        print(\"You should seek consultation from a doctor.\")\n",
    "    else:\n",
    "        print(\"It might not be that bad, but you should take precautions.\")"
   ]
  },
  {
   "cell_type": "code",
   "execution_count": 16,
   "metadata": {},
   "outputs": [],
   "source": [
    "# Load symptom descriptions from a CSV file\n",
    "def getDescription():\n",
    "    global description_list\n",
    "    with open('/home/rgukt/Desktop/majorproject2/symptom_Description.csv') as csv_file:\n",
    "        csv_reader = csv.reader(csv_file, delimiter=',')\n",
    "        for row in csv_reader:\n",
    "            _description = {row[0]: row[1]}\n",
    "            description_list.update(_description)"
   ]
  },
  {
   "cell_type": "code",
   "execution_count": 17,
   "metadata": {},
   "outputs": [],
   "source": [
    "# Load symptom severity information from a CSV file\n",
    "def getSeverityDict():\n",
    "    global severityDictionary\n",
    "    with open('/home/rgukt/Desktop/majorproject2/Symptom_severity.csv') as csv_file:\n",
    "        csv_reader = csv.reader(csv_file, delimiter=',')\n",
    "        for row in csv_reader:\n",
    "            if len(row) >= 2:\n",
    "                _diction = {row[0]: int(row[1])}\n",
    "                severityDictionary.update(_diction)"
   ]
  },
  {
   "cell_type": "code",
   "execution_count": 18,
   "metadata": {},
   "outputs": [],
   "source": [
    "\n",
    "# Load symptom precautions from a CSV file\n",
    "def getprecautionDict():\n",
    "    global precautionDictionary\n",
    "    with open('/home/rgukt/Desktop/majorproject2/symptom_precaution.csv') as csv_file:\n",
    "        csv_reader = csv.reader(csv_file, delimiter=',')\n",
    "        for row in csv_reader:\n",
    "            _prec = {row[0]: [row[1], row[2], row[3], row[4]]}\n",
    "            precautionDictionary.update(_prec)\n"
   ]
  },
  {
   "cell_type": "code",
   "execution_count": 19,
   "metadata": {},
   "outputs": [],
   "source": [
    "# Get user's name\n",
    "def get_user_name():\n",
    "    print(\"Hello! What's your name?\")\n",
    "    user_name = input()\n",
    "    print(f\"Hello, {user_name}!\")\n"
   ]
  },
  {
   "cell_type": "code",
   "execution_count": 20,
   "metadata": {},
   "outputs": [],
   "source": [
    "# Check if the input matches any symptom pattern\n",
    "def check_pattern(dis_list, inp):\n",
    "    pred_list = []\n",
    "    inp = inp.replace(' ', '_')\n",
    "    patt = f\"{inp}\"\n",
    "    regexp = re.compile(patt)\n",
    "    pred_list = [item for item in dis_list if regexp.search(item)]\n",
    "    if len(pred_list) > 0:\n",
    "        return 1, pred_list\n",
    "    else:\n",
    "        return 0, []"
   ]
  },
  {
   "cell_type": "code",
   "execution_count": 21,
   "metadata": {},
   "outputs": [],
   "source": [
    "# Make a secondary prediction based on symptoms\n",
    "def sec_predict(symptoms_exp):\n",
    "    df = pd.read_csv('/home/rgukt/Desktop/majorproject2/Training.csv')\n",
    "    X = df.iloc[:, :-1]\n",
    "    y = df['prognosis']\n",
    "    X_train, X_test, y_train, y_test = train_test_split(X, y, test_size=0.3, random_state=20)\n",
    "    rf_clf = DecisionTreeClassifier()\n",
    "    rf_clf.fit(X_train, y_train)\n",
    "\n",
    "    symptoms_dict = {symptom: index for index, symptom in enumerate(X.columns)}\n",
    "    input_vector = np.zeros(len(symptoms_dict))\n",
    "    for item in symptoms_exp:\n",
    "        input_vector[[symptoms_dict[item]]] = 1\n",
    "\n",
    "    return rf_clf.predict([input_vector])"
   ]
  },
  {
   "cell_type": "code",
   "execution_count": 22,
   "metadata": {},
   "outputs": [],
   "source": [
    "# Print the predicted disease\n",
    "def print_disease(node):\n",
    "    node = node[0]\n",
    "    val = node.nonzero()\n",
    "    disease = le.inverse_transform(val[0])\n",
    "    return list(map(lambda x: x.strip(), list(disease)))"
   ]
  },
  {
   "cell_type": "code",
   "execution_count": 23,
   "metadata": {},
   "outputs": [],
   "source": [
    "\n",
    "# Convert the decision tree to code\n",
    "def tree_to_code(tree, feature_names):\n",
    "    tree_ = tree.tree_\n",
    "    feature_name = [\n",
    "        feature_names[i] if i != _tree.TREE_UNDEFINED else \"undefined!\"\n",
    "        for i in tree_.feature\n",
    "    ]\n",
    "\n",
    "    chk_dis = \",\".join(feature_names).split(\",\")\n",
    "    symptoms_present = []\n",
    "\n",
    "    while True:\n",
    "        print(\"Enter your symptom:\")\n",
    "        disease_input = input()\n",
    "        conf, cnf_dis = check_pattern(chk_dis, disease_input)\n",
    "        if conf == 1:\n",
    "            print(\"Searches related to input:\")\n",
    "            for num, it in enumerate(cnf_dis):\n",
    "                print(num, \")\", it)\n",
    "            if num != 0:\n",
    "                print(f\"Select the one you meant (0 - {num}): \", end=\"\")\n",
    "                selected_index = int(input())\n",
    "                disease_input = cnf_dis[selected_index]\n",
    "\n",
    "            break\n",
    "        else:\n",
    "            print(\"Enter a valid symptom.\")\n",
    "\n",
    "    while True:\n",
    "        try:\n",
    "            print(\"From how many days have you experienced this symptom? (Enter a count):\")\n",
    "            num_days = int(input())\n",
    "            break\n",
    "        except:\n",
    "            print(\"Enter a valid number.\")\n",
    "\n",
    "    def recurse(node, depth):\n",
    "        if tree_.feature[node] != _tree.TREE_UNDEFINED:\n",
    "            name = feature_name[node]\n",
    "            threshold = tree_.threshold[node]\n",
    "\n",
    "            if name == disease_input:\n",
    "                val = 1\n",
    "            else:\n",
    "                val = 0\n",
    "            if val <= threshold:\n",
    "                recurse(tree_.children_left[node], depth + 1)\n",
    "            else:\n",
    "                symptoms_present.append(name)\n",
    "                recurse(tree_.children_right[node], depth + 1)\n",
    "        else:\n",
    "            present_disease = print_disease(tree_.value[node])\n",
    "\n",
    "            red_cols = reduced_data.columns\n",
    "            symptoms_given = red_cols[reduced_data.loc[present_disease].values[0].nonzero()]\n",
    "\n",
    "            print(\"Are you experiencing any of the following symptoms?\")\n",
    "            symptoms_exp = []\n",
    "            for syms in list(symptoms_given):\n",
    "                print(f\"{syms}? (yes/no): \", end='')\n",
    "                inp = input()\n",
    "                while inp not in [\"yes\", \"no\"]:\n",
    "                    print(\"Please provide a valid answer (yes/no): \", end='')\n",
    "                    inp = input()\n",
    "                if inp == \"yes\":\n",
    "                    symptoms_exp.append(syms)\n",
    "\n",
    "            second_prediction = sec_predict(symptoms_exp)\n",
    "\n",
    "            calc_condition(symptoms_exp, num_days)\n",
    "            if present_disease[0] == second_prediction[0]:\n",
    "                print(\"You may have\", present_disease[0])\n",
    "                print(description_list[present_disease[0]])\n",
    "            else:\n",
    "                print(\"You may have\", present_disease[0], \"or\", second_prediction[0])\n",
    "                print(description_list[present_disease[0]])\n",
    "                print(description_list[second_prediction[0]])\n",
    "\n",
    "            precution_list = precautionDictionary[present_disease[0]]\n",
    "            print(\"Take the following measures:\")\n",
    "            for i, j in enumerate(precution_list):\n",
    "                print(i + 1, \")\", j)\n",
    "\n",
    "    recurse(0, 1)\n"
   ]
  },
  {
   "cell_type": "code",
   "execution_count": 24,
   "metadata": {},
   "outputs": [],
   "source": [
    "\n",
    "# Get symptom severity, description, and precaution data\n",
    "getSeverityDict()\n",
    "getDescription()\n",
    "getprecautionDict()"
   ]
  },
  {
   "cell_type": "code",
   "execution_count": 25,
   "metadata": {},
   "outputs": [
    {
     "name": "stdout",
     "output_type": "stream",
     "text": [
      "Hello! What's your name?\n",
      "chandana\n",
      "Hello, chandana!\n"
     ]
    }
   ],
   "source": [
    "# Get user's name\n",
    "get_user_name()"
   ]
  },
  {
   "cell_type": "code",
   "execution_count": 26,
   "metadata": {
    "scrolled": false
   },
   "outputs": [
    {
     "name": "stdout",
     "output_type": "stream",
     "text": [
      "Enter your symptom:\n",
      "fever\n",
      "Searches related to input:\n",
      "0 ) high_fever\n",
      "1 ) mild_fever\n",
      "Select the one you meant (0 - 1): 0\n",
      "From how many days have you experienced this symptom? (Enter a count):\n",
      "3\n",
      "Are you experiencing any of the following symptoms?\n",
      "muscle_weakness? (yes/no): yes\n",
      "stiff_neck? (yes/no): no\n",
      "swelling_joints? (yes/no): yes\n",
      "movement_stiffness? (yes/no): no\n",
      "painful_walking? (yes/no): yes\n",
      "It might not be that bad, but you should take precautions.\n",
      "You may have Arthritis\n",
      "Arthritis is the swelling and tenderness of one or more of your joints. The main symptoms of arthritis are joint pain and stiffness, which typically worsen with age. The most common types of arthritis are osteoarthritis and rheumatoid arthritis.so prithvi mudra is the best solution for arithritis.First, sit in a relaxed position.Now, bring your ring finger and your thumb closer.Next, place your hands with palms facing upwards on the thighs or above the knees.Slowly fold your ring finger and tap the tip of the ring finger to the tip of the thumb with some pressure.And virabhadrasana ,vrikshasana are also very wel and useful yogasanas.virabhadrasana is Stand erect and spread your legs about three to four feet apart. Now, turn your right foot outwards by 90 degrees and the left by 15 degrees, making sure the heel of the right foot is perfectly aligned with the center of the left foot.vrikshasan is Stand straight.Balance firmly on your left leg and lift your right leg. Now, place your right foot against the inside of your left thigh.Join your palms in prayer at your chest level.Hold the position while breathing deeply.Lower your arms to chest level and then separate your palms.\n",
      "Take the following measures:\n",
      "1 ) Exercise & try acupuncture\n",
      "2 ) use hot and cold therapy & massage\n",
      "3 ) Do Prithvi Mudra\n",
      "4 ) Virabhadrasana and Vrikshasana are best yogasanas \n"
     ]
    }
   ],
   "source": [
    "# Perform diagnosis using the decision tree\n",
    "tree_to_code(clf, cols)"
   ]
  },
  {
   "cell_type": "code",
   "execution_count": null,
   "metadata": {},
   "outputs": [],
   "source": [
    "# Display a thank you message\n",
    "print(\"Thank you for using MediBot!\")"
   ]
  },
  {
   "cell_type": "code",
   "execution_count": null,
   "metadata": {},
   "outputs": [],
   "source": []
  },
  {
   "cell_type": "code",
   "execution_count": null,
   "metadata": {},
   "outputs": [],
   "source": []
  },
  {
   "cell_type": "code",
   "execution_count": null,
   "metadata": {},
   "outputs": [],
   "source": []
  }
 ],
 "metadata": {
  "kernelspec": {
   "display_name": "Python 3",
   "language": "python",
   "name": "python3"
  },
  "language_info": {
   "codemirror_mode": {
    "name": "ipython",
    "version": 3
   },
   "file_extension": ".py",
   "mimetype": "text/x-python",
   "name": "python",
   "nbconvert_exporter": "python",
   "pygments_lexer": "ipython3",
   "version": "3.6.9"
  }
 },
 "nbformat": 4,
 "nbformat_minor": 2
}
